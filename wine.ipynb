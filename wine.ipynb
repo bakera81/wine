{
 "cells": [
  {
   "cell_type": "code",
   "execution_count": 1,
   "metadata": {},
   "outputs": [],
   "source": [
    "import pandas as pd"
   ]
  },
  {
   "cell_type": "code",
   "execution_count": 2,
   "metadata": {},
   "outputs": [],
   "source": [
    "reviews = pd.read_csv('data/winemag-data-130k-v2.csv')"
   ]
  },
  {
   "cell_type": "code",
   "execution_count": 5,
   "metadata": {},
   "outputs": [
    {
     "data": {
      "text/html": [
       "<div>\n",
       "<style scoped>\n",
       "    .dataframe tbody tr th:only-of-type {\n",
       "        vertical-align: middle;\n",
       "    }\n",
       "\n",
       "    .dataframe tbody tr th {\n",
       "        vertical-align: top;\n",
       "    }\n",
       "\n",
       "    .dataframe thead th {\n",
       "        text-align: right;\n",
       "    }\n",
       "</style>\n",
       "<table border=\"1\" class=\"dataframe\">\n",
       "  <thead>\n",
       "    <tr style=\"text-align: right;\">\n",
       "      <th></th>\n",
       "      <th>Unnamed: 0</th>\n",
       "      <th>country</th>\n",
       "      <th>description</th>\n",
       "      <th>designation</th>\n",
       "      <th>points</th>\n",
       "      <th>price</th>\n",
       "      <th>province</th>\n",
       "      <th>region_1</th>\n",
       "      <th>region_2</th>\n",
       "      <th>taster_name</th>\n",
       "      <th>taster_twitter_handle</th>\n",
       "      <th>title</th>\n",
       "      <th>variety</th>\n",
       "      <th>winery</th>\n",
       "    </tr>\n",
       "  </thead>\n",
       "  <tbody>\n",
       "    <tr>\n",
       "      <th>0</th>\n",
       "      <td>0</td>\n",
       "      <td>Italy</td>\n",
       "      <td>Aromas include tropical fruit, broom, brimston...</td>\n",
       "      <td>Vulkà Bianco</td>\n",
       "      <td>87</td>\n",
       "      <td>NaN</td>\n",
       "      <td>Sicily &amp; Sardinia</td>\n",
       "      <td>Etna</td>\n",
       "      <td>NaN</td>\n",
       "      <td>Kerin O’Keefe</td>\n",
       "      <td>@kerinokeefe</td>\n",
       "      <td>Nicosia 2013 Vulkà Bianco  (Etna)</td>\n",
       "      <td>White Blend</td>\n",
       "      <td>Nicosia</td>\n",
       "    </tr>\n",
       "    <tr>\n",
       "      <th>1</th>\n",
       "      <td>1</td>\n",
       "      <td>Portugal</td>\n",
       "      <td>This is ripe and fruity, a wine that is smooth...</td>\n",
       "      <td>Avidagos</td>\n",
       "      <td>87</td>\n",
       "      <td>15.0</td>\n",
       "      <td>Douro</td>\n",
       "      <td>NaN</td>\n",
       "      <td>NaN</td>\n",
       "      <td>Roger Voss</td>\n",
       "      <td>@vossroger</td>\n",
       "      <td>Quinta dos Avidagos 2011 Avidagos Red (Douro)</td>\n",
       "      <td>Portuguese Red</td>\n",
       "      <td>Quinta dos Avidagos</td>\n",
       "    </tr>\n",
       "    <tr>\n",
       "      <th>2</th>\n",
       "      <td>2</td>\n",
       "      <td>US</td>\n",
       "      <td>Tart and snappy, the flavors of lime flesh and...</td>\n",
       "      <td>NaN</td>\n",
       "      <td>87</td>\n",
       "      <td>14.0</td>\n",
       "      <td>Oregon</td>\n",
       "      <td>Willamette Valley</td>\n",
       "      <td>Willamette Valley</td>\n",
       "      <td>Paul Gregutt</td>\n",
       "      <td>@paulgwine</td>\n",
       "      <td>Rainstorm 2013 Pinot Gris (Willamette Valley)</td>\n",
       "      <td>Pinot Gris</td>\n",
       "      <td>Rainstorm</td>\n",
       "    </tr>\n",
       "    <tr>\n",
       "      <th>3</th>\n",
       "      <td>3</td>\n",
       "      <td>US</td>\n",
       "      <td>Pineapple rind, lemon pith and orange blossom ...</td>\n",
       "      <td>Reserve Late Harvest</td>\n",
       "      <td>87</td>\n",
       "      <td>13.0</td>\n",
       "      <td>Michigan</td>\n",
       "      <td>Lake Michigan Shore</td>\n",
       "      <td>NaN</td>\n",
       "      <td>Alexander Peartree</td>\n",
       "      <td>NaN</td>\n",
       "      <td>St. Julian 2013 Reserve Late Harvest Riesling ...</td>\n",
       "      <td>Riesling</td>\n",
       "      <td>St. Julian</td>\n",
       "    </tr>\n",
       "    <tr>\n",
       "      <th>4</th>\n",
       "      <td>4</td>\n",
       "      <td>US</td>\n",
       "      <td>Much like the regular bottling from 2012, this...</td>\n",
       "      <td>Vintner's Reserve Wild Child Block</td>\n",
       "      <td>87</td>\n",
       "      <td>65.0</td>\n",
       "      <td>Oregon</td>\n",
       "      <td>Willamette Valley</td>\n",
       "      <td>Willamette Valley</td>\n",
       "      <td>Paul Gregutt</td>\n",
       "      <td>@paulgwine</td>\n",
       "      <td>Sweet Cheeks 2012 Vintner's Reserve Wild Child...</td>\n",
       "      <td>Pinot Noir</td>\n",
       "      <td>Sweet Cheeks</td>\n",
       "    </tr>\n",
       "  </tbody>\n",
       "</table>\n",
       "</div>"
      ],
      "text/plain": [
       "   Unnamed: 0   country                                        description  \\\n",
       "0           0     Italy  Aromas include tropical fruit, broom, brimston...   \n",
       "1           1  Portugal  This is ripe and fruity, a wine that is smooth...   \n",
       "2           2        US  Tart and snappy, the flavors of lime flesh and...   \n",
       "3           3        US  Pineapple rind, lemon pith and orange blossom ...   \n",
       "4           4        US  Much like the regular bottling from 2012, this...   \n",
       "\n",
       "                          designation  points  price           province  \\\n",
       "0                        Vulkà Bianco      87    NaN  Sicily & Sardinia   \n",
       "1                            Avidagos      87   15.0              Douro   \n",
       "2                                 NaN      87   14.0             Oregon   \n",
       "3                Reserve Late Harvest      87   13.0           Michigan   \n",
       "4  Vintner's Reserve Wild Child Block      87   65.0             Oregon   \n",
       "\n",
       "              region_1           region_2         taster_name  \\\n",
       "0                 Etna                NaN       Kerin O’Keefe   \n",
       "1                  NaN                NaN          Roger Voss   \n",
       "2    Willamette Valley  Willamette Valley        Paul Gregutt   \n",
       "3  Lake Michigan Shore                NaN  Alexander Peartree   \n",
       "4    Willamette Valley  Willamette Valley        Paul Gregutt   \n",
       "\n",
       "  taster_twitter_handle                                              title  \\\n",
       "0          @kerinokeefe                  Nicosia 2013 Vulkà Bianco  (Etna)   \n",
       "1            @vossroger      Quinta dos Avidagos 2011 Avidagos Red (Douro)   \n",
       "2           @paulgwine       Rainstorm 2013 Pinot Gris (Willamette Valley)   \n",
       "3                   NaN  St. Julian 2013 Reserve Late Harvest Riesling ...   \n",
       "4           @paulgwine   Sweet Cheeks 2012 Vintner's Reserve Wild Child...   \n",
       "\n",
       "          variety               winery  \n",
       "0     White Blend              Nicosia  \n",
       "1  Portuguese Red  Quinta dos Avidagos  \n",
       "2      Pinot Gris            Rainstorm  \n",
       "3        Riesling           St. Julian  \n",
       "4      Pinot Noir         Sweet Cheeks  "
      ]
     },
     "execution_count": 5,
     "metadata": {},
     "output_type": "execute_result"
    }
   ],
   "source": [
    "reviews.head()"
   ]
  },
  {
   "cell_type": "code",
   "execution_count": 77,
   "metadata": {},
   "outputs": [],
   "source": [
    "wines = reviews[['title','description']]\n",
    "titles = reviews[['title']]"
   ]
  },
  {
   "cell_type": "code",
   "execution_count": 79,
   "metadata": {},
   "outputs": [
    {
     "data": {
      "text/html": [
       "<div>\n",
       "<style scoped>\n",
       "    .dataframe tbody tr th:only-of-type {\n",
       "        vertical-align: middle;\n",
       "    }\n",
       "\n",
       "    .dataframe tbody tr th {\n",
       "        vertical-align: top;\n",
       "    }\n",
       "\n",
       "    .dataframe thead th {\n",
       "        text-align: right;\n",
       "    }\n",
       "</style>\n",
       "<table border=\"1\" class=\"dataframe\">\n",
       "  <thead>\n",
       "    <tr style=\"text-align: right;\">\n",
       "      <th></th>\n",
       "      <th>title</th>\n",
       "      <th>description</th>\n",
       "    </tr>\n",
       "  </thead>\n",
       "  <tbody>\n",
       "    <tr>\n",
       "      <th>321</th>\n",
       "      <td>Sant Eurosia 2007 Brut  (Prosecco di Valdobbia...</td>\n",
       "      <td>This Brut interpretation of Prosecco (“Brut” m...</td>\n",
       "    </tr>\n",
       "    <tr>\n",
       "      <th>322</th>\n",
       "      <td>Sant Eurosia 2007 Millesimato Dry  (Prosecco d...</td>\n",
       "      <td>This is a “dry” vintage Prosecco with a hint o...</td>\n",
       "    </tr>\n",
       "    <tr>\n",
       "      <th>323</th>\n",
       "      <td>J. &amp; F. Lurton 2006 Gran Araucano Cabernet Sau...</td>\n",
       "      <td>Mildly minty and woody on the nose, with grass...</td>\n",
       "    </tr>\n",
       "    <tr>\n",
       "      <th>402</th>\n",
       "      <td>Viña Bisquertt 2007 Casa la Joya Reserve Syrah...</td>\n",
       "      <td>Formerly doing business as “Shiraz,” this Syra...</td>\n",
       "    </tr>\n",
       "    <tr>\n",
       "      <th>668</th>\n",
       "      <td>Raphael 2014 Virgin Berry Riesling (North Fork...</td>\n",
       "      <td>While dry in style, this lithe, delicately fra...</td>\n",
       "    </tr>\n",
       "    <tr>\n",
       "      <th>953</th>\n",
       "      <td>Amalie Robert 2012 i Pinot Noir (Willamette Va...</td>\n",
       "      <td>This new “i” series offering mixes brambly str...</td>\n",
       "    </tr>\n",
       "    <tr>\n",
       "      <th>971</th>\n",
       "      <td>Pommery NV Pop Rosé Extra Dry  (Champagne)</td>\n",
       "      <td>Although it is labeled “Extra Dry” (that is sw...</td>\n",
       "    </tr>\n",
       "    <tr>\n",
       "      <th>1111</th>\n",
       "      <td>Castellroig 2010 Reserva Brut Nature Sparkling...</td>\n",
       "      <td>The nose falls somewhere between smoky and gri...</td>\n",
       "    </tr>\n",
       "    <tr>\n",
       "      <th>1170</th>\n",
       "      <td>Trapiche 2007 Broquel Chardonnay (Mendoza)</td>\n",
       "      <td>Apricot and oak aromas make for a smoky, sligh...</td>\n",
       "    </tr>\n",
       "    <tr>\n",
       "      <th>1363</th>\n",
       "      <td>Torre Quarto 2009 Sangue Blu Negroamaro (Puglia)</td>\n",
       "      <td>“Sangue Blu,” which translates to “blue blood,...</td>\n",
       "    </tr>\n",
       "    <tr>\n",
       "      <th>1561</th>\n",
       "      <td>Marchesi Antinori 2008 Guado al Tasso  (Bolghe...</td>\n",
       "      <td>Here's a “wow” wine on every level, with incre...</td>\n",
       "    </tr>\n",
       "    <tr>\n",
       "      <th>1653</th>\n",
       "      <td>Parras Wines 2015 Mula Velha Reserva Red (Lisboa)</td>\n",
       "      <td>Mula Velha, “the old donkey,” is a younger win...</td>\n",
       "    </tr>\n",
       "    <tr>\n",
       "      <th>1663</th>\n",
       "      <td>J. Portugal Ramos 2015 Pouca Roupa Branco Whit...</td>\n",
       "      <td>This wine is smooth and soft, with an attracti...</td>\n",
       "    </tr>\n",
       "    <tr>\n",
       "      <th>1718</th>\n",
       "      <td>Torres 2006 Viña Esmeralda Moscatel (Catalunya)</td>\n",
       "      <td>This wine is a “product” in every sense of the...</td>\n",
       "    </tr>\n",
       "    <tr>\n",
       "      <th>1907</th>\n",
       "      <td>Botromagno 2001 Gravisano Passito Malvasia Bia...</td>\n",
       "      <td>Apricot, peach cobbler, sticky honey, white fl...</td>\n",
       "    </tr>\n",
       "    <tr>\n",
       "      <th>1955</th>\n",
       "      <td>Binyamina 2010 Yogev Cabernet Sauvignon (Galilee)</td>\n",
       "      <td>Yogev, meaning “tiller of the soil,” is a frie...</td>\n",
       "    </tr>\n",
       "    <tr>\n",
       "      <th>2262</th>\n",
       "      <td>Salis 1637 2002 Canua  (Valtellina Superiore)</td>\n",
       "      <td>One of Italy's most interesting and least-know...</td>\n",
       "    </tr>\n",
       "    <tr>\n",
       "      <th>2695</th>\n",
       "      <td>Lane Tanner 2000 Pinot Noir (Santa Maria Valley)</td>\n",
       "      <td>The “least” of Lane Tanner's range of Pinots, ...</td>\n",
       "    </tr>\n",
       "    <tr>\n",
       "      <th>3022</th>\n",
       "      <td>Nefarious 2010 Rx-3 Red Wine Red (Columbia Val...</td>\n",
       "      <td>“Rhône times three” seems to be the code name ...</td>\n",
       "    </tr>\n",
       "    <tr>\n",
       "      <th>3166</th>\n",
       "      <td>Giavi 2011 Prima Volta Millesimato Dry  (Coneg...</td>\n",
       "      <td>Prima Volta (“first time”) is a fresh and easy...</td>\n",
       "    </tr>\n",
       "    <tr>\n",
       "      <th>3281</th>\n",
       "      <td>La Posta 2006 Cocina Blend Red (Mendoza)</td>\n",
       "      <td>“Cocina” means “the kitchen” in Spanish, and t...</td>\n",
       "    </tr>\n",
       "    <tr>\n",
       "      <th>3284</th>\n",
       "      <td>Melipal 2006 Reserve Malbec (Mendoza)</td>\n",
       "      <td>Rubbery and smoky at first, with leather and b...</td>\n",
       "    </tr>\n",
       "    <tr>\n",
       "      <th>3384</th>\n",
       "      <td>Ovum 2015 Memorista Tradition Riesling (Eola-A...</td>\n",
       "      <td>From a different block of the same vineyard as...</td>\n",
       "    </tr>\n",
       "    <tr>\n",
       "      <th>3556</th>\n",
       "      <td>Walla Walla Vintners 2010 Sagemoor Vineyard Ma...</td>\n",
       "      <td>This single vineyard Malbec belongs with Washi...</td>\n",
       "    </tr>\n",
       "    <tr>\n",
       "      <th>3647</th>\n",
       "      <td>Rudi Pichler 2006 Wösendorfer Kirchweg Smaragd...</td>\n",
       "      <td>This vineyard, the “way to the church,” gives ...</td>\n",
       "    </tr>\n",
       "    <tr>\n",
       "      <th>3680</th>\n",
       "      <td>La Vierge 2008 Temptation The Affair Red (Walk...</td>\n",
       "      <td>“The Affair” refers to the relationship betwee...</td>\n",
       "    </tr>\n",
       "    <tr>\n",
       "      <th>3760</th>\n",
       "      <td>Durigutti 2011 HD Reserva Malbec (Mendoza)</td>\n",
       "      <td>Dense aromas of prune and raisin scream “overr...</td>\n",
       "    </tr>\n",
       "    <tr>\n",
       "      <th>3840</th>\n",
       "      <td>Sojourn 2011 Ridgetop Vineyard Pinot Noir (Son...</td>\n",
       "      <td>This Pinot Noir is from the far or “true” Sono...</td>\n",
       "    </tr>\n",
       "    <tr>\n",
       "      <th>3874</th>\n",
       "      <td>Lachini 2008 Lachini Family Estate Pinot Noir ...</td>\n",
       "      <td>Smooth as silk, all estate-grown, this classy ...</td>\n",
       "    </tr>\n",
       "    <tr>\n",
       "      <th>4326</th>\n",
       "      <td>Chehalem 2007 INOX Chardonnay (Willamette Valley)</td>\n",
       "      <td>INOX—from the French inoxidable—is Chehalem's ...</td>\n",
       "    </tr>\n",
       "    <tr>\n",
       "      <th>...</th>\n",
       "      <td>...</td>\n",
       "      <td>...</td>\n",
       "    </tr>\n",
       "    <tr>\n",
       "      <th>124046</th>\n",
       "      <td>Château Penin 2013 Natur  (Bordeaux)</td>\n",
       "      <td>Red cherry aromas lead to a wine that is curio...</td>\n",
       "    </tr>\n",
       "    <tr>\n",
       "      <th>124149</th>\n",
       "      <td>Feudi di San Gregorio 2007  Taurasi</td>\n",
       "      <td>Taurasi is one of the great red wines of Italy...</td>\n",
       "    </tr>\n",
       "    <tr>\n",
       "      <th>124199</th>\n",
       "      <td>Hecho por Ruben 2012 Harrison Clarke Vineyard ...</td>\n",
       "      <td>Ruben “The Grape Whisperer” Solorzano may need...</td>\n",
       "    </tr>\n",
       "    <tr>\n",
       "      <th>124281</th>\n",
       "      <td>Markus Molitor 2010 Zeltinger Sonnenuhr Ausles...</td>\n",
       "      <td>The “**” designation on this wine indicates th...</td>\n",
       "    </tr>\n",
       "    <tr>\n",
       "      <th>124323</th>\n",
       "      <td>Concha y Toro 2001 Block 25 Terrunyo Chardonna...</td>\n",
       "      <td>At first the nose is like caramelized popcorn,...</td>\n",
       "    </tr>\n",
       "    <tr>\n",
       "      <th>124593</th>\n",
       "      <td>Gianni Gagliardo 2004 Preve Riserva  (Barolo)</td>\n",
       "      <td>Here's a Barolo that lives up to its “riserva”...</td>\n",
       "    </tr>\n",
       "    <tr>\n",
       "      <th>124605</th>\n",
       "      <td>Pelissero 2007 Nubiola  (Barbaresco)</td>\n",
       "      <td>Nebbiolo, the grape, and Nubiola, the designat...</td>\n",
       "    </tr>\n",
       "    <tr>\n",
       "      <th>124610</th>\n",
       "      <td>Terre da Vino 2006 Paesi Tuoi  (Barolo)</td>\n",
       "      <td>With the whimsical name Paesi Tuoi (“your coun...</td>\n",
       "    </tr>\n",
       "    <tr>\n",
       "      <th>124719</th>\n",
       "      <td>Pierre Merguey 2014  Mâcon-Uchizy</td>\n",
       "      <td>Crisp and tangy, this is a tightly knit wine. ...</td>\n",
       "    </tr>\n",
       "    <tr>\n",
       "      <th>124751</th>\n",
       "      <td>Enoport 2014 Novo Mondo Colheita Seleccionada ...</td>\n",
       "      <td>Named “new world” to recognize Portugal's grea...</td>\n",
       "    </tr>\n",
       "    <tr>\n",
       "      <th>125415</th>\n",
       "      <td>Dona Maria-Júlio Bastos 2006 Dona Maria Amanti...</td>\n",
       "      <td>In Latin, “Amantis” means a lover. The Quinta ...</td>\n",
       "    </tr>\n",
       "    <tr>\n",
       "      <th>125492</th>\n",
       "      <td>Sequum 2010 Riverwash Zinfandel (Dry Creek Val...</td>\n",
       "      <td>The word “briary” is hard to define. In Zinfan...</td>\n",
       "    </tr>\n",
       "    <tr>\n",
       "      <th>125774</th>\n",
       "      <td>Turning Leaf 2001 Reserve Riesling (Monterey)</td>\n",
       "      <td>The “Reserve” on the label is hardly appropria...</td>\n",
       "    </tr>\n",
       "    <tr>\n",
       "      <th>125946</th>\n",
       "      <td>Carlisle 2014 Pagani Ranch Zinfandel (Sonoma V...</td>\n",
       "      <td>This wine contains 14% “mixed blacks,” includi...</td>\n",
       "    </tr>\n",
       "    <tr>\n",
       "      <th>126021</th>\n",
       "      <td>Bergström 2014 Le Pré du Col Vineyard Pinot No...</td>\n",
       "      <td>In French, the vineyard name means “the meadow...</td>\n",
       "    </tr>\n",
       "    <tr>\n",
       "      <th>126060</th>\n",
       "      <td>Man O' War 2009 Merlot-Cabernet (Waiheke Island)</td>\n",
       "      <td>This “white label” blend is broad and lush, an...</td>\n",
       "    </tr>\n",
       "    <tr>\n",
       "      <th>126142</th>\n",
       "      <td>Barbi 2011 Abboccato  (Orvieto Classico)</td>\n",
       "      <td>“Abboccato” Orvieto Classico means the wine ha...</td>\n",
       "    </tr>\n",
       "    <tr>\n",
       "      <th>127406</th>\n",
       "      <td>Acrobat 2011 Pinot Noir (Oregon)</td>\n",
       "      <td>The Acrobat bottling is one of Oregon's best s...</td>\n",
       "    </tr>\n",
       "    <tr>\n",
       "      <th>127499</th>\n",
       "      <td>Concha y Toro 2001 Xplorador Cabernet Sauvigno...</td>\n",
       "      <td>Ripe and ready, with powerful dark fruit. This...</td>\n",
       "    </tr>\n",
       "    <tr>\n",
       "      <th>127579</th>\n",
       "      <td>Chehalem 2006 Statement Pinot Noir (Ribbon Ridge)</td>\n",
       "      <td>This one-of-a-kind offering from Chehalem cele...</td>\n",
       "    </tr>\n",
       "    <tr>\n",
       "      <th>127645</th>\n",
       "      <td>Errazuriz 2009 The Blend Limited Edition Red (...</td>\n",
       "      <td>An unusual blend of Mourvèdre, Syrah, Petit Ve...</td>\n",
       "    </tr>\n",
       "    <tr>\n",
       "      <th>127790</th>\n",
       "      <td>Rancho Zabaco 2001 Reserve Sauvignon Blanc (So...</td>\n",
       "      <td>If one word could sum up this wine it would be...</td>\n",
       "    </tr>\n",
       "    <tr>\n",
       "      <th>128337</th>\n",
       "      <td>Syncline 2009 Grenache-Carignan (Columbia Vall...</td>\n",
       "      <td>Take two somewhat obscure, often-overlooked gr...</td>\n",
       "    </tr>\n",
       "    <tr>\n",
       "      <th>128922</th>\n",
       "      <td>Pascal Aufranc 2012 Les Cerisiers Vieilles  Vi...</td>\n",
       "      <td>This wine's name translates to “cherry,” and c...</td>\n",
       "    </tr>\n",
       "    <tr>\n",
       "      <th>129012</th>\n",
       "      <td>Caliterra 2013 Tributo Single Vineyard Malbec ...</td>\n",
       "      <td>Aromas of earthy cherry and plum are herbal in...</td>\n",
       "    </tr>\n",
       "    <tr>\n",
       "      <th>129137</th>\n",
       "      <td>Fattoria Zerbina 2006 Scaccomatto Passito Botr...</td>\n",
       "      <td>Scaccomatto (“checkmate” in Italian) is an ext...</td>\n",
       "    </tr>\n",
       "    <tr>\n",
       "      <th>129542</th>\n",
       "      <td>Adelsheim 2011 Elizabeth's Reserve Pinot Noir ...</td>\n",
       "      <td>Elizabeth's Reserve is comprised of Adelsheim'...</td>\n",
       "    </tr>\n",
       "    <tr>\n",
       "      <th>129642</th>\n",
       "      <td>Walt 2011 The Corners Pinot Noir (Anderson Val...</td>\n",
       "      <td>This bigger style of Pinot takes some time to ...</td>\n",
       "    </tr>\n",
       "    <tr>\n",
       "      <th>129657</th>\n",
       "      <td>DanCin 2014 Melodia Pinot Noir (Oregon)</td>\n",
       "      <td>Though labeled simply “Oregon,” this is 100% H...</td>\n",
       "    </tr>\n",
       "    <tr>\n",
       "      <th>129801</th>\n",
       "      <td>Buglioni 2009 Il Bugiardo  (Valpolicella Class...</td>\n",
       "      <td>“Il Bugiardo,” which is Italian for “the liar,...</td>\n",
       "    </tr>\n",
       "  </tbody>\n",
       "</table>\n",
       "<p>686 rows × 2 columns</p>\n",
       "</div>"
      ],
      "text/plain": [
       "                                                    title  \\\n",
       "321     Sant Eurosia 2007 Brut  (Prosecco di Valdobbia...   \n",
       "322     Sant Eurosia 2007 Millesimato Dry  (Prosecco d...   \n",
       "323     J. & F. Lurton 2006 Gran Araucano Cabernet Sau...   \n",
       "402     Viña Bisquertt 2007 Casa la Joya Reserve Syrah...   \n",
       "668     Raphael 2014 Virgin Berry Riesling (North Fork...   \n",
       "953     Amalie Robert 2012 i Pinot Noir (Willamette Va...   \n",
       "971            Pommery NV Pop Rosé Extra Dry  (Champagne)   \n",
       "1111    Castellroig 2010 Reserva Brut Nature Sparkling...   \n",
       "1170           Trapiche 2007 Broquel Chardonnay (Mendoza)   \n",
       "1363     Torre Quarto 2009 Sangue Blu Negroamaro (Puglia)   \n",
       "1561    Marchesi Antinori 2008 Guado al Tasso  (Bolghe...   \n",
       "1653    Parras Wines 2015 Mula Velha Reserva Red (Lisboa)   \n",
       "1663    J. Portugal Ramos 2015 Pouca Roupa Branco Whit...   \n",
       "1718      Torres 2006 Viña Esmeralda Moscatel (Catalunya)   \n",
       "1907    Botromagno 2001 Gravisano Passito Malvasia Bia...   \n",
       "1955    Binyamina 2010 Yogev Cabernet Sauvignon (Galilee)   \n",
       "2262        Salis 1637 2002 Canua  (Valtellina Superiore)   \n",
       "2695     Lane Tanner 2000 Pinot Noir (Santa Maria Valley)   \n",
       "3022    Nefarious 2010 Rx-3 Red Wine Red (Columbia Val...   \n",
       "3166    Giavi 2011 Prima Volta Millesimato Dry  (Coneg...   \n",
       "3281             La Posta 2006 Cocina Blend Red (Mendoza)   \n",
       "3284                Melipal 2006 Reserve Malbec (Mendoza)   \n",
       "3384    Ovum 2015 Memorista Tradition Riesling (Eola-A...   \n",
       "3556    Walla Walla Vintners 2010 Sagemoor Vineyard Ma...   \n",
       "3647    Rudi Pichler 2006 Wösendorfer Kirchweg Smaragd...   \n",
       "3680    La Vierge 2008 Temptation The Affair Red (Walk...   \n",
       "3760           Durigutti 2011 HD Reserva Malbec (Mendoza)   \n",
       "3840    Sojourn 2011 Ridgetop Vineyard Pinot Noir (Son...   \n",
       "3874    Lachini 2008 Lachini Family Estate Pinot Noir ...   \n",
       "4326    Chehalem 2007 INOX Chardonnay (Willamette Valley)   \n",
       "...                                                   ...   \n",
       "124046               Château Penin 2013 Natur  (Bordeaux)   \n",
       "124149                Feudi di San Gregorio 2007  Taurasi   \n",
       "124199  Hecho por Ruben 2012 Harrison Clarke Vineyard ...   \n",
       "124281  Markus Molitor 2010 Zeltinger Sonnenuhr Ausles...   \n",
       "124323  Concha y Toro 2001 Block 25 Terrunyo Chardonna...   \n",
       "124593      Gianni Gagliardo 2004 Preve Riserva  (Barolo)   \n",
       "124605               Pelissero 2007 Nubiola  (Barbaresco)   \n",
       "124610            Terre da Vino 2006 Paesi Tuoi  (Barolo)   \n",
       "124719                  Pierre Merguey 2014  Mâcon-Uchizy   \n",
       "124751  Enoport 2014 Novo Mondo Colheita Seleccionada ...   \n",
       "125415  Dona Maria-Júlio Bastos 2006 Dona Maria Amanti...   \n",
       "125492  Sequum 2010 Riverwash Zinfandel (Dry Creek Val...   \n",
       "125774      Turning Leaf 2001 Reserve Riesling (Monterey)   \n",
       "125946  Carlisle 2014 Pagani Ranch Zinfandel (Sonoma V...   \n",
       "126021  Bergström 2014 Le Pré du Col Vineyard Pinot No...   \n",
       "126060   Man O' War 2009 Merlot-Cabernet (Waiheke Island)   \n",
       "126142           Barbi 2011 Abboccato  (Orvieto Classico)   \n",
       "127406                   Acrobat 2011 Pinot Noir (Oregon)   \n",
       "127499  Concha y Toro 2001 Xplorador Cabernet Sauvigno...   \n",
       "127579  Chehalem 2006 Statement Pinot Noir (Ribbon Ridge)   \n",
       "127645  Errazuriz 2009 The Blend Limited Edition Red (...   \n",
       "127790  Rancho Zabaco 2001 Reserve Sauvignon Blanc (So...   \n",
       "128337  Syncline 2009 Grenache-Carignan (Columbia Vall...   \n",
       "128922  Pascal Aufranc 2012 Les Cerisiers Vieilles  Vi...   \n",
       "129012  Caliterra 2013 Tributo Single Vineyard Malbec ...   \n",
       "129137  Fattoria Zerbina 2006 Scaccomatto Passito Botr...   \n",
       "129542  Adelsheim 2011 Elizabeth's Reserve Pinot Noir ...   \n",
       "129642  Walt 2011 The Corners Pinot Noir (Anderson Val...   \n",
       "129657            DanCin 2014 Melodia Pinot Noir (Oregon)   \n",
       "129801  Buglioni 2009 Il Bugiardo  (Valpolicella Class...   \n",
       "\n",
       "                                              description  \n",
       "321     This Brut interpretation of Prosecco (“Brut” m...  \n",
       "322     This is a “dry” vintage Prosecco with a hint o...  \n",
       "323     Mildly minty and woody on the nose, with grass...  \n",
       "402     Formerly doing business as “Shiraz,” this Syra...  \n",
       "668     While dry in style, this lithe, delicately fra...  \n",
       "953     This new “i” series offering mixes brambly str...  \n",
       "971     Although it is labeled “Extra Dry” (that is sw...  \n",
       "1111    The nose falls somewhere between smoky and gri...  \n",
       "1170    Apricot and oak aromas make for a smoky, sligh...  \n",
       "1363    “Sangue Blu,” which translates to “blue blood,...  \n",
       "1561    Here's a “wow” wine on every level, with incre...  \n",
       "1653    Mula Velha, “the old donkey,” is a younger win...  \n",
       "1663    This wine is smooth and soft, with an attracti...  \n",
       "1718    This wine is a “product” in every sense of the...  \n",
       "1907    Apricot, peach cobbler, sticky honey, white fl...  \n",
       "1955    Yogev, meaning “tiller of the soil,” is a frie...  \n",
       "2262    One of Italy's most interesting and least-know...  \n",
       "2695    The “least” of Lane Tanner's range of Pinots, ...  \n",
       "3022    “Rhône times three” seems to be the code name ...  \n",
       "3166    Prima Volta (“first time”) is a fresh and easy...  \n",
       "3281    “Cocina” means “the kitchen” in Spanish, and t...  \n",
       "3284    Rubbery and smoky at first, with leather and b...  \n",
       "3384    From a different block of the same vineyard as...  \n",
       "3556    This single vineyard Malbec belongs with Washi...  \n",
       "3647    This vineyard, the “way to the church,” gives ...  \n",
       "3680    “The Affair” refers to the relationship betwee...  \n",
       "3760    Dense aromas of prune and raisin scream “overr...  \n",
       "3840    This Pinot Noir is from the far or “true” Sono...  \n",
       "3874    Smooth as silk, all estate-grown, this classy ...  \n",
       "4326    INOX—from the French inoxidable—is Chehalem's ...  \n",
       "...                                                   ...  \n",
       "124046  Red cherry aromas lead to a wine that is curio...  \n",
       "124149  Taurasi is one of the great red wines of Italy...  \n",
       "124199  Ruben “The Grape Whisperer” Solorzano may need...  \n",
       "124281  The “**” designation on this wine indicates th...  \n",
       "124323  At first the nose is like caramelized popcorn,...  \n",
       "124593  Here's a Barolo that lives up to its “riserva”...  \n",
       "124605  Nebbiolo, the grape, and Nubiola, the designat...  \n",
       "124610  With the whimsical name Paesi Tuoi (“your coun...  \n",
       "124719  Crisp and tangy, this is a tightly knit wine. ...  \n",
       "124751  Named “new world” to recognize Portugal's grea...  \n",
       "125415  In Latin, “Amantis” means a lover. The Quinta ...  \n",
       "125492  The word “briary” is hard to define. In Zinfan...  \n",
       "125774  The “Reserve” on the label is hardly appropria...  \n",
       "125946  This wine contains 14% “mixed blacks,” includi...  \n",
       "126021  In French, the vineyard name means “the meadow...  \n",
       "126060  This “white label” blend is broad and lush, an...  \n",
       "126142  “Abboccato” Orvieto Classico means the wine ha...  \n",
       "127406  The Acrobat bottling is one of Oregon's best s...  \n",
       "127499  Ripe and ready, with powerful dark fruit. This...  \n",
       "127579  This one-of-a-kind offering from Chehalem cele...  \n",
       "127645  An unusual blend of Mourvèdre, Syrah, Petit Ve...  \n",
       "127790  If one word could sum up this wine it would be...  \n",
       "128337  Take two somewhat obscure, often-overlooked gr...  \n",
       "128922  This wine's name translates to “cherry,” and c...  \n",
       "129012  Aromas of earthy cherry and plum are herbal in...  \n",
       "129137  Scaccomatto (“checkmate” in Italian) is an ext...  \n",
       "129542  Elizabeth's Reserve is comprised of Adelsheim'...  \n",
       "129642  This bigger style of Pinot takes some time to ...  \n",
       "129657  Though labeled simply “Oregon,” this is 100% H...  \n",
       "129801  “Il Bugiardo,” which is Italian for “the liar,...  \n",
       "\n",
       "[686 rows x 2 columns]"
      ]
     },
     "execution_count": 79,
     "metadata": {},
     "output_type": "execute_result"
    }
   ],
   "source": [
    "wines.assign(description=wines.description.str.replace('“', ''))\n",
    "wines[wines.description.str.contains('“')]"
   ]
  },
  {
   "cell_type": "code",
   "execution_count": 76,
   "metadata": {},
   "outputs": [
    {
     "name": "stderr",
     "output_type": "stream",
     "text": [
      "/usr/local/lib/python3.6/site-packages/ipykernel_launcher.py:2: FutureWarning: currently extract(expand=None) means expand=False (return Index/Series/DataFrame) but in a future version of pandas this will be changed to expand=True (return DataFrame)\n",
      "  \n"
     ]
    },
    {
     "data": {
      "text/plain": [
       "“     683\n",
       "’     197\n",
       "‘      43\n",
       "­      30\n",
       "\"      28\n",
       "¬       5\n",
       "•       4\n",
       "”       3\n",
       "°       3\n",
       "´       2\n",
       "        2\n",
       "#       2\n",
       "\\r      2\n",
       "¨       2\n",
       "`       2\n",
       "¡       1\n",
       "=       1\n",
       "|       1\n",
       "　       1\n",
       "*       1\n",
       "\\       1\n",
       "Name: matched, dtype: int64"
      ]
     },
     "execution_count": 76,
     "metadata": {},
     "output_type": "execute_result"
    }
   ],
   "source": [
    "# What funky characters need to be replaced?\n",
    "test = wines[['description']].assign(matched=wines.description.str.extract('([^ ,;:/%&\\+\\$\\(\\)\\.\\?\\-–—!…\\w\\d\\'])'))\n",
    "test = test[test.matched.notna()]\n",
    "test['matched'].value_counts()"
   ]
  },
  {
   "cell_type": "code",
   "execution_count": 68,
   "metadata": {},
   "outputs": [
    {
     "data": {
      "text/plain": [
       "\"The most aromatically complex of the FE 2012 Rieslings, the Poison Hill offers beguiling scents of tangerine sherbet and Earl Grey tea. It's almost too perfumy for its soft, medium-bodied structure and slightly dusty-textured finish, but those floral elements are also its appeal. Drink now–2020+.\""
      ]
     },
     "execution_count": 68,
     "metadata": {},
     "output_type": "execute_result"
    }
   ],
   "source": [
    "# test[test.matched=='+']['description'][2587]\n"
   ]
  },
  {
   "cell_type": "code",
   "execution_count": 74,
   "metadata": {},
   "outputs": [],
   "source": [
    "# Clean descriptions - replace curly punctuation\n",
    "wines = wines.assign(clean_desc=wines.description.str.replace('“|”', '\"'))\n",
    "wines = wines.assign(clean_desc=wines.clean_desc.str.replace('’|‘|`|´', '\\''))"
   ]
  },
  {
   "cell_type": "code",
   "execution_count": 75,
   "metadata": {},
   "outputs": [],
   "source": [
    "# Clean descriptions - remove certain punctuation\n",
    "wines = wines.assign(clean_desc=wines.clean_desc.str.replace('[^ ,;:/%&\\+\\$\\(\\)\\.\\?\\-–—!…\\w\\d\\']', ''))"
   ]
  },
  {
   "cell_type": "code",
   "execution_count": 63,
   "metadata": {},
   "outputs": [],
   "source": [
    "# Clean descriptions - remove multiple white spaces\n",
    "wines = wines.assign(clean_desc=wines.clean_desc.str.replace('\\s', ' '))"
   ]
  },
  {
   "cell_type": "code",
   "execution_count": 64,
   "metadata": {},
   "outputs": [],
   "source": [
    "# Clean descriptions - remove multiple punctuation\n",
    "wines = wines.assign(clean_desc=wines.clean_desc.str.replace('\\.{3}', '…'))"
   ]
  },
  {
   "cell_type": "code",
   "execution_count": 65,
   "metadata": {},
   "outputs": [],
   "source": [
    "# Clean descriptions - remove white spaces around commas and other punctuation"
   ]
  },
  {
   "cell_type": "code",
   "execution_count": 11,
   "metadata": {},
   "outputs": [
    {
     "ename": "AttributeError",
     "evalue": "'DataFrame' object has no attribute 'clean_desc'",
     "output_type": "error",
     "traceback": [
      "\u001b[0;31m---------------------------------------------------------------------------\u001b[0m",
      "\u001b[0;31mAttributeError\u001b[0m                            Traceback (most recent call last)",
      "\u001b[0;32m<ipython-input-11-d9b825cc1477>\u001b[0m in \u001b[0;36m<module>\u001b[0;34m()\u001b[0m\n\u001b[0;32m----> 1\u001b[0;31m \u001b[0mwines\u001b[0m \u001b[0;34m=\u001b[0m \u001b[0mwines\u001b[0m\u001b[0;34m.\u001b[0m\u001b[0massign\u001b[0m\u001b[0;34m(\u001b[0m\u001b[0mwords\u001b[0m\u001b[0;34m=\u001b[0m\u001b[0mwines\u001b[0m\u001b[0;34m.\u001b[0m\u001b[0mclean_desc\u001b[0m\u001b[0;34m.\u001b[0m\u001b[0mstr\u001b[0m\u001b[0;34m.\u001b[0m\u001b[0msplit\u001b[0m\u001b[0;34m(\u001b[0m\u001b[0mpat\u001b[0m\u001b[0;34m=\u001b[0m\u001b[0;34m' '\u001b[0m\u001b[0;34m)\u001b[0m\u001b[0;34m)\u001b[0m\u001b[0;34m\u001b[0m\u001b[0m\n\u001b[0m",
      "\u001b[0;32m/usr/local/lib/python3.6/site-packages/pandas/core/generic.py\u001b[0m in \u001b[0;36m__getattr__\u001b[0;34m(self, name)\u001b[0m\n\u001b[1;32m   3612\u001b[0m             \u001b[0;32mif\u001b[0m \u001b[0mname\u001b[0m \u001b[0;32min\u001b[0m \u001b[0mself\u001b[0m\u001b[0;34m.\u001b[0m\u001b[0m_info_axis\u001b[0m\u001b[0;34m:\u001b[0m\u001b[0;34m\u001b[0m\u001b[0m\n\u001b[1;32m   3613\u001b[0m                 \u001b[0;32mreturn\u001b[0m \u001b[0mself\u001b[0m\u001b[0;34m[\u001b[0m\u001b[0mname\u001b[0m\u001b[0;34m]\u001b[0m\u001b[0;34m\u001b[0m\u001b[0m\n\u001b[0;32m-> 3614\u001b[0;31m             \u001b[0;32mreturn\u001b[0m \u001b[0mobject\u001b[0m\u001b[0;34m.\u001b[0m\u001b[0m__getattribute__\u001b[0m\u001b[0;34m(\u001b[0m\u001b[0mself\u001b[0m\u001b[0;34m,\u001b[0m \u001b[0mname\u001b[0m\u001b[0;34m)\u001b[0m\u001b[0;34m\u001b[0m\u001b[0m\n\u001b[0m\u001b[1;32m   3615\u001b[0m \u001b[0;34m\u001b[0m\u001b[0m\n\u001b[1;32m   3616\u001b[0m     \u001b[0;32mdef\u001b[0m \u001b[0m__setattr__\u001b[0m\u001b[0;34m(\u001b[0m\u001b[0mself\u001b[0m\u001b[0;34m,\u001b[0m \u001b[0mname\u001b[0m\u001b[0;34m,\u001b[0m \u001b[0mvalue\u001b[0m\u001b[0;34m)\u001b[0m\u001b[0;34m:\u001b[0m\u001b[0;34m\u001b[0m\u001b[0m\n",
      "\u001b[0;31mAttributeError\u001b[0m: 'DataFrame' object has no attribute 'clean_desc'"
     ]
    }
   ],
   "source": [
    "wines = wines.assign(words=wines.clean_desc.str.split(pat=' '))"
   ]
  },
  {
   "cell_type": "code",
   "execution_count": 67,
   "metadata": {},
   "outputs": [],
   "source": [
    "# wines.head()"
   ]
  },
  {
   "cell_type": "code",
   "execution_count": 27,
   "metadata": {},
   "outputs": [],
   "source": [
    "def split_pairs(x):\n",
    "    \"\"\"Split a list into a list of 2-tuples.\"\"\"\n",
    "    output = []\n",
    "    for i in range(0, len(x)):\n",
    "        if i == 0:\n",
    "            output.append(tuple(['_START', x[i]]))\n",
    "        output.append(tuple(x[i:i+2]))\n",
    "    return output"
   ]
  },
  {
   "cell_type": "code",
   "execution_count": 69,
   "metadata": {},
   "outputs": [],
   "source": [
    "# sample = wines.iloc[0,3]\n",
    "# [x for x in split_pairs(sample)]"
   ]
  },
  {
   "cell_type": "code",
   "execution_count": 70,
   "metadata": {},
   "outputs": [],
   "source": [
    "wines = wines.assign(pairs=wines.apply(lambda row: split_pairs(row.words), axis=1))"
   ]
  },
  {
   "cell_type": "code",
   "execution_count": 71,
   "metadata": {},
   "outputs": [],
   "source": [
    "words = wines['pairs'].apply(pd.Series).stack().to_frame(name='pairs')"
   ]
  },
  {
   "cell_type": "code",
   "execution_count": 72,
   "metadata": {},
   "outputs": [],
   "source": [
    "punctuation = ['.', '?', '!']\n",
    "words = words.assign(\n",
    "    word_1=words['pairs'].apply(lambda x: '_START' if any([x[0].endswith(p) for p in punctuation]) else x[0]),\n",
    "    word_2=words['pairs'].apply(lambda x: x[1] if len(x) > 1 else '_END')\n",
    ")"
   ]
  },
  {
   "cell_type": "code",
   "execution_count": 73,
   "metadata": {},
   "outputs": [],
   "source": [
    "# words.head()"
   ]
  },
  {
   "cell_type": "code",
   "execution_count": 74,
   "metadata": {},
   "outputs": [],
   "source": [
    "words = words.reset_index()\n",
    "words = words[['pairs', 'word_1', 'word_2']]"
   ]
  },
  {
   "cell_type": "code",
   "execution_count": 88,
   "metadata": {},
   "outputs": [],
   "source": [
    "# Remove any empty words, filter out pairs that occur infrequently to make it faster\n",
    "# len(wordcounts.index)\n",
    "words = words[(words.word_1 != '') & (words.word_2 != '') & (words.word_2 != '_END')]\n",
    "# wordcounts = wordcounts[wordcounts.n > 5]"
   ]
  },
  {
   "cell_type": "code",
   "execution_count": 76,
   "metadata": {},
   "outputs": [],
   "source": [
    "wsample = words.sample(200)"
   ]
  },
  {
   "cell_type": "code",
   "execution_count": 90,
   "metadata": {},
   "outputs": [],
   "source": [
    "w1 = words.groupby('word_1').agg('size').reset_index(name='w1_freq')\n",
    "w2 = words.groupby(['word_1', 'word_2']).agg('size').reset_index(name='n')\n",
    "wordcounts = w2.merge(w1, on='word_1', how='inner')"
   ]
  },
  {
   "cell_type": "code",
   "execution_count": 91,
   "metadata": {},
   "outputs": [],
   "source": [
    "wordcounts = wordcounts.assign(weight=wordcounts.n/wordcounts.w1_freq)"
   ]
  },
  {
   "cell_type": "code",
   "execution_count": 99,
   "metadata": {},
   "outputs": [
    {
     "data": {
      "text/plain": [
       "'Its'"
      ]
     },
     "execution_count": 99,
     "metadata": {},
     "output_type": "execute_result"
    }
   ],
   "source": [
    "wordcounts[wordcounts.word_1 == '_START'].sample(1, weights=wordcounts.weight).iloc[0,1]"
   ]
  },
  {
   "cell_type": "code",
   "execution_count": 100,
   "metadata": {},
   "outputs": [
    {
     "name": "stdout",
     "output_type": "stream",
     "text": [
      "Its\n",
      "a\n",
      "blend\n",
      "with\n",
      "a\n",
      "dusty\n",
      "texture\n",
      "full\n",
      "bodied,\n",
      "it\n",
      "over\n",
      "the\n",
      "tannins\n",
      "that\n",
      "is\n",
      "a\n",
      "rich,\n",
      "full-bodied\n",
      "red.\n"
     ]
    },
    {
     "ename": "ValueError",
     "evalue": "Invalid weights: weights sum to zero",
     "output_type": "error",
     "traceback": [
      "\u001b[0;31m---------------------------------------------------------------------------\u001b[0m",
      "\u001b[0;31mValueError\u001b[0m                                Traceback (most recent call last)",
      "\u001b[0;32m<ipython-input-100-fb7c24f01919>\u001b[0m in \u001b[0;36m<module>\u001b[0;34m()\u001b[0m\n\u001b[1;32m      2\u001b[0m \u001b[0mreview\u001b[0m \u001b[0;34m=\u001b[0m \u001b[0;34m[\u001b[0m\u001b[0;34m]\u001b[0m\u001b[0;34m\u001b[0m\u001b[0m\n\u001b[1;32m      3\u001b[0m \u001b[0;32mfor\u001b[0m \u001b[0mi\u001b[0m \u001b[0;32min\u001b[0m \u001b[0mrange\u001b[0m\u001b[0;34m(\u001b[0m\u001b[0;36m20\u001b[0m\u001b[0;34m)\u001b[0m\u001b[0;34m:\u001b[0m\u001b[0;34m\u001b[0m\u001b[0m\n\u001b[0;32m----> 4\u001b[0;31m     \u001b[0mprev_word\u001b[0m \u001b[0;34m=\u001b[0m \u001b[0mwordcounts\u001b[0m\u001b[0;34m[\u001b[0m\u001b[0mwordcounts\u001b[0m\u001b[0;34m.\u001b[0m\u001b[0mword_1\u001b[0m \u001b[0;34m==\u001b[0m \u001b[0mprev_word\u001b[0m\u001b[0;34m]\u001b[0m\u001b[0;34m.\u001b[0m\u001b[0msample\u001b[0m\u001b[0;34m(\u001b[0m\u001b[0;36m1\u001b[0m\u001b[0;34m,\u001b[0m \u001b[0mweights\u001b[0m\u001b[0;34m=\u001b[0m\u001b[0mwordcounts\u001b[0m\u001b[0;34m.\u001b[0m\u001b[0mweight\u001b[0m\u001b[0;34m)\u001b[0m\u001b[0;34m.\u001b[0m\u001b[0miloc\u001b[0m\u001b[0;34m[\u001b[0m\u001b[0;36m0\u001b[0m\u001b[0;34m,\u001b[0m \u001b[0;36m1\u001b[0m\u001b[0;34m]\u001b[0m\u001b[0;34m\u001b[0m\u001b[0m\n\u001b[0m\u001b[1;32m      5\u001b[0m     \u001b[0mprint\u001b[0m\u001b[0;34m(\u001b[0m\u001b[0mprev_word\u001b[0m\u001b[0;34m)\u001b[0m\u001b[0;34m\u001b[0m\u001b[0m\n",
      "\u001b[0;32m/usr/local/lib/python3.6/site-packages/pandas/core/generic.py\u001b[0m in \u001b[0;36msample\u001b[0;34m(self, n, frac, replace, weights, random_state, axis)\u001b[0m\n\u001b[1;32m   3419\u001b[0m                     \u001b[0mweights\u001b[0m \u001b[0;34m=\u001b[0m \u001b[0mweights\u001b[0m \u001b[0;34m/\u001b[0m \u001b[0mweights\u001b[0m\u001b[0;34m.\u001b[0m\u001b[0msum\u001b[0m\u001b[0;34m(\u001b[0m\u001b[0;34m)\u001b[0m\u001b[0;34m\u001b[0m\u001b[0m\n\u001b[1;32m   3420\u001b[0m                 \u001b[0;32melse\u001b[0m\u001b[0;34m:\u001b[0m\u001b[0;34m\u001b[0m\u001b[0m\n\u001b[0;32m-> 3421\u001b[0;31m                     \u001b[0;32mraise\u001b[0m \u001b[0mValueError\u001b[0m\u001b[0;34m(\u001b[0m\u001b[0;34m\"Invalid weights: weights sum to zero\"\u001b[0m\u001b[0;34m)\u001b[0m\u001b[0;34m\u001b[0m\u001b[0m\n\u001b[0m\u001b[1;32m   3422\u001b[0m \u001b[0;34m\u001b[0m\u001b[0m\n\u001b[1;32m   3423\u001b[0m             \u001b[0mweights\u001b[0m \u001b[0;34m=\u001b[0m \u001b[0mweights\u001b[0m\u001b[0;34m.\u001b[0m\u001b[0mvalues\u001b[0m\u001b[0;34m\u001b[0m\u001b[0m\n",
      "\u001b[0;31mValueError\u001b[0m: Invalid weights: weights sum to zero"
     ]
    }
   ],
   "source": [
    "prev_word = '_START'\n",
    "review = []\n",
    "for i in range(20):\n",
    "    prev_word = wordcounts[wordcounts.word_1 == prev_word].sample(1, weights=wordcounts.weight).iloc[0, 1]\n",
    "    print(prev_word)"
   ]
  },
  {
   "cell_type": "code",
   "execution_count": null,
   "metadata": {},
   "outputs": [],
   "source": [
    "# Titles"
   ]
  },
  {
   "cell_type": "code",
   "execution_count": 22,
   "metadata": {},
   "outputs": [],
   "source": [
    "# Clean titles - remove everything in parentheses\n",
    "titles = titles.assign(clean_title=titles.title.str.replace('\\(.*\\)', ''))\n",
    "titles = titles.assign(clean_title=titles.clean_title.str.strip())"
   ]
  },
  {
   "cell_type": "code",
   "execution_count": 26,
   "metadata": {},
   "outputs": [],
   "source": [
    "titles = titles.assign(words=titles.clean_title.str.split(pat=' '))"
   ]
  },
  {
   "cell_type": "code",
   "execution_count": 28,
   "metadata": {},
   "outputs": [
    {
     "data": {
      "text/html": [
       "<div>\n",
       "<style scoped>\n",
       "    .dataframe tbody tr th:only-of-type {\n",
       "        vertical-align: middle;\n",
       "    }\n",
       "\n",
       "    .dataframe tbody tr th {\n",
       "        vertical-align: top;\n",
       "    }\n",
       "\n",
       "    .dataframe thead th {\n",
       "        text-align: right;\n",
       "    }\n",
       "</style>\n",
       "<table border=\"1\" class=\"dataframe\">\n",
       "  <thead>\n",
       "    <tr style=\"text-align: right;\">\n",
       "      <th></th>\n",
       "      <th>title</th>\n",
       "      <th>clean_title</th>\n",
       "      <th>words</th>\n",
       "      <th>pairs</th>\n",
       "    </tr>\n",
       "  </thead>\n",
       "  <tbody>\n",
       "    <tr>\n",
       "      <th>0</th>\n",
       "      <td>Nicosia 2013 Vulkà Bianco  (Etna)</td>\n",
       "      <td>Nicosia 2013 Vulkà Bianco</td>\n",
       "      <td>[Nicosia, 2013, Vulkà, Bianco]</td>\n",
       "      <td>[(_START, Nicosia), (Nicosia, 2013), (2013, Vu...</td>\n",
       "    </tr>\n",
       "    <tr>\n",
       "      <th>1</th>\n",
       "      <td>Quinta dos Avidagos 2011 Avidagos Red (Douro)</td>\n",
       "      <td>Quinta dos Avidagos 2011 Avidagos Red</td>\n",
       "      <td>[Quinta, dos, Avidagos, 2011, Avidagos, Red]</td>\n",
       "      <td>[(_START, Quinta), (Quinta, dos), (dos, Avidag...</td>\n",
       "    </tr>\n",
       "    <tr>\n",
       "      <th>2</th>\n",
       "      <td>Rainstorm 2013 Pinot Gris (Willamette Valley)</td>\n",
       "      <td>Rainstorm 2013 Pinot Gris</td>\n",
       "      <td>[Rainstorm, 2013, Pinot, Gris]</td>\n",
       "      <td>[(_START, Rainstorm), (Rainstorm, 2013), (2013...</td>\n",
       "    </tr>\n",
       "    <tr>\n",
       "      <th>3</th>\n",
       "      <td>St. Julian 2013 Reserve Late Harvest Riesling ...</td>\n",
       "      <td>St. Julian 2013 Reserve Late Harvest Riesling</td>\n",
       "      <td>[St., Julian, 2013, Reserve, Late, Harvest, Ri...</td>\n",
       "      <td>[(_START, St.), (St., Julian), (Julian, 2013),...</td>\n",
       "    </tr>\n",
       "    <tr>\n",
       "      <th>4</th>\n",
       "      <td>Sweet Cheeks 2012 Vintner's Reserve Wild Child...</td>\n",
       "      <td>Sweet Cheeks 2012 Vintner's Reserve Wild Child...</td>\n",
       "      <td>[Sweet, Cheeks, 2012, Vintner's, Reserve, Wild...</td>\n",
       "      <td>[(_START, Sweet), (Sweet, Cheeks), (Cheeks, 20...</td>\n",
       "    </tr>\n",
       "  </tbody>\n",
       "</table>\n",
       "</div>"
      ],
      "text/plain": [
       "                                               title  \\\n",
       "0                  Nicosia 2013 Vulkà Bianco  (Etna)   \n",
       "1      Quinta dos Avidagos 2011 Avidagos Red (Douro)   \n",
       "2      Rainstorm 2013 Pinot Gris (Willamette Valley)   \n",
       "3  St. Julian 2013 Reserve Late Harvest Riesling ...   \n",
       "4  Sweet Cheeks 2012 Vintner's Reserve Wild Child...   \n",
       "\n",
       "                                         clean_title  \\\n",
       "0                          Nicosia 2013 Vulkà Bianco   \n",
       "1              Quinta dos Avidagos 2011 Avidagos Red   \n",
       "2                          Rainstorm 2013 Pinot Gris   \n",
       "3      St. Julian 2013 Reserve Late Harvest Riesling   \n",
       "4  Sweet Cheeks 2012 Vintner's Reserve Wild Child...   \n",
       "\n",
       "                                               words  \\\n",
       "0                     [Nicosia, 2013, Vulkà, Bianco]   \n",
       "1       [Quinta, dos, Avidagos, 2011, Avidagos, Red]   \n",
       "2                     [Rainstorm, 2013, Pinot, Gris]   \n",
       "3  [St., Julian, 2013, Reserve, Late, Harvest, Ri...   \n",
       "4  [Sweet, Cheeks, 2012, Vintner's, Reserve, Wild...   \n",
       "\n",
       "                                               pairs  \n",
       "0  [(_START, Nicosia), (Nicosia, 2013), (2013, Vu...  \n",
       "1  [(_START, Quinta), (Quinta, dos), (dos, Avidag...  \n",
       "2  [(_START, Rainstorm), (Rainstorm, 2013), (2013...  \n",
       "3  [(_START, St.), (St., Julian), (Julian, 2013),...  \n",
       "4  [(_START, Sweet), (Sweet, Cheeks), (Cheeks, 20...  "
      ]
     },
     "execution_count": 28,
     "metadata": {},
     "output_type": "execute_result"
    }
   ],
   "source": [
    "titles = titles.assign(pairs=titles.apply(lambda row: split_pairs(row.words), axis=1))"
   ]
  },
  {
   "cell_type": "code",
   "execution_count": 29,
   "metadata": {},
   "outputs": [],
   "source": [
    "title_words = titles['pairs'].apply(pd.Series).stack().to_frame(name='pairs')"
   ]
  },
  {
   "cell_type": "code",
   "execution_count": 33,
   "metadata": {},
   "outputs": [],
   "source": [
    "title_words = title_words.reset_index()\n",
    "punctuation = ['.', '?', '!']\n",
    "title_words = title_words.assign(\n",
    "    word_1=title_words['pairs'].apply(lambda x: '_START' if any([x[0].endswith(p) for p in punctuation]) else x[0]),\n",
    "    word_2=title_words['pairs'].apply(lambda x: x[1] if len(x) > 1 else '_END')\n",
    ")\n",
    "title_words = title_words[['word_1', 'word_2', 'pairs']]"
   ]
  },
  {
   "cell_type": "code",
   "execution_count": 37,
   "metadata": {},
   "outputs": [],
   "source": [
    "title_words = title_words[(title_words.word_1 != '') & (title_words.word_2 != '') & (title_words.word_2 != '_END')]"
   ]
  },
  {
   "cell_type": "code",
   "execution_count": 38,
   "metadata": {},
   "outputs": [
    {
     "data": {
      "text/html": [
       "<div>\n",
       "<style scoped>\n",
       "    .dataframe tbody tr th:only-of-type {\n",
       "        vertical-align: middle;\n",
       "    }\n",
       "\n",
       "    .dataframe tbody tr th {\n",
       "        vertical-align: top;\n",
       "    }\n",
       "\n",
       "    .dataframe thead th {\n",
       "        text-align: right;\n",
       "    }\n",
       "</style>\n",
       "<table border=\"1\" class=\"dataframe\">\n",
       "  <thead>\n",
       "    <tr style=\"text-align: right;\">\n",
       "      <th></th>\n",
       "      <th>word_1</th>\n",
       "      <th>word_2</th>\n",
       "      <th>pairs</th>\n",
       "    </tr>\n",
       "  </thead>\n",
       "  <tbody>\n",
       "    <tr>\n",
       "      <th>0</th>\n",
       "      <td>_START</td>\n",
       "      <td>Nicosia</td>\n",
       "      <td>(_START, Nicosia)</td>\n",
       "    </tr>\n",
       "    <tr>\n",
       "      <th>1</th>\n",
       "      <td>Nicosia</td>\n",
       "      <td>2013</td>\n",
       "      <td>(Nicosia, 2013)</td>\n",
       "    </tr>\n",
       "    <tr>\n",
       "      <th>2</th>\n",
       "      <td>2013</td>\n",
       "      <td>Vulkà</td>\n",
       "      <td>(2013, Vulkà)</td>\n",
       "    </tr>\n",
       "    <tr>\n",
       "      <th>3</th>\n",
       "      <td>Vulkà</td>\n",
       "      <td>Bianco</td>\n",
       "      <td>(Vulkà, Bianco)</td>\n",
       "    </tr>\n",
       "    <tr>\n",
       "      <th>5</th>\n",
       "      <td>_START</td>\n",
       "      <td>Quinta</td>\n",
       "      <td>(_START, Quinta)</td>\n",
       "    </tr>\n",
       "  </tbody>\n",
       "</table>\n",
       "</div>"
      ],
      "text/plain": [
       "    word_1   word_2              pairs\n",
       "0   _START  Nicosia  (_START, Nicosia)\n",
       "1  Nicosia     2013    (Nicosia, 2013)\n",
       "2     2013    Vulkà      (2013, Vulkà)\n",
       "3    Vulkà   Bianco    (Vulkà, Bianco)\n",
       "5   _START   Quinta   (_START, Quinta)"
      ]
     },
     "execution_count": 38,
     "metadata": {},
     "output_type": "execute_result"
    }
   ],
   "source": [
    "title_words.head()"
   ]
  },
  {
   "cell_type": "code",
   "execution_count": 39,
   "metadata": {},
   "outputs": [],
   "source": [
    "w1 = title_words.groupby('word_1').agg('size').reset_index(name='w1_freq')\n",
    "w2 = title_words.groupby(['word_1', 'word_2']).agg('size').reset_index(name='n')\n",
    "title_wordcounts = w2.merge(w1, on='word_1', how='inner')"
   ]
  },
  {
   "cell_type": "code",
   "execution_count": 40,
   "metadata": {},
   "outputs": [
    {
     "data": {
      "text/html": [
       "<div>\n",
       "<style scoped>\n",
       "    .dataframe tbody tr th:only-of-type {\n",
       "        vertical-align: middle;\n",
       "    }\n",
       "\n",
       "    .dataframe tbody tr th {\n",
       "        vertical-align: top;\n",
       "    }\n",
       "\n",
       "    .dataframe thead th {\n",
       "        text-align: right;\n",
       "    }\n",
       "</style>\n",
       "<table border=\"1\" class=\"dataframe\">\n",
       "  <thead>\n",
       "    <tr style=\"text-align: right;\">\n",
       "      <th></th>\n",
       "      <th>word_1</th>\n",
       "      <th>word_2</th>\n",
       "      <th>n</th>\n",
       "      <th>w1_freq</th>\n",
       "    </tr>\n",
       "  </thead>\n",
       "  <tbody>\n",
       "    <tr>\n",
       "      <th>0</th>\n",
       "      <td>#</td>\n",
       "      <td>Espino</td>\n",
       "      <td>1</td>\n",
       "      <td>2</td>\n",
       "    </tr>\n",
       "    <tr>\n",
       "      <th>1</th>\n",
       "      <td>#</td>\n",
       "      <td>Quillay</td>\n",
       "      <td>1</td>\n",
       "      <td>2</td>\n",
       "    </tr>\n",
       "    <tr>\n",
       "      <th>2</th>\n",
       "      <td>#1</td>\n",
       "      <td>Purisima</td>\n",
       "      <td>2</td>\n",
       "      <td>3</td>\n",
       "    </tr>\n",
       "    <tr>\n",
       "      <th>3</th>\n",
       "      <td>#1</td>\n",
       "      <td>Zinfandel</td>\n",
       "      <td>1</td>\n",
       "      <td>3</td>\n",
       "    </tr>\n",
       "    <tr>\n",
       "      <th>4</th>\n",
       "      <td>#10</td>\n",
       "      <td>Cabernet</td>\n",
       "      <td>1</td>\n",
       "      <td>7</td>\n",
       "    </tr>\n",
       "  </tbody>\n",
       "</table>\n",
       "</div>"
      ],
      "text/plain": [
       "  word_1     word_2  n  w1_freq\n",
       "0      #     Espino  1        2\n",
       "1      #    Quillay  1        2\n",
       "2     #1   Purisima  2        3\n",
       "3     #1  Zinfandel  1        3\n",
       "4    #10   Cabernet  1        7"
      ]
     },
     "execution_count": 40,
     "metadata": {},
     "output_type": "execute_result"
    }
   ],
   "source": [
    "title_wordcounts.head()"
   ]
  },
  {
   "cell_type": "code",
   "execution_count": 41,
   "metadata": {},
   "outputs": [],
   "source": [
    "title_wordcounts = title_wordcounts.assign(weight=title_wordcounts.n/title_wordcounts.w1_freq)"
   ]
  },
  {
   "cell_type": "code",
   "execution_count": 46,
   "metadata": {},
   "outputs": [
    {
     "name": "stdout",
     "output_type": "stream",
     "text": [
      "Longboard\n",
      "2014\n",
      "Kloof\n",
      "Street\n",
      "2006\n",
      "Sauvignon\n"
     ]
    }
   ],
   "source": [
    "prev_word = '_START'\n",
    "title = []\n",
    "for i in range(6):\n",
    "    prev_word = title_wordcounts[title_wordcounts.word_1 == prev_word].sample(1, weights=title_wordcounts.weight).iloc[0, 1]\n",
    "    print(prev_word)"
   ]
  },
  {
   "cell_type": "code",
   "execution_count": 47,
   "metadata": {},
   "outputs": [
    {
     "data": {
      "text/plain": [
       "166808"
      ]
     },
     "execution_count": 47,
     "metadata": {},
     "output_type": "execute_result"
    }
   ],
   "source": [
    "len(title_wordcounts.index)"
   ]
  },
  {
   "cell_type": "code",
   "execution_count": 44,
   "metadata": {},
   "outputs": [],
   "source": [
    "####### OLD #######"
   ]
  },
  {
   "cell_type": "code",
   "execution_count": 96,
   "metadata": {},
   "outputs": [],
   "source": [
    "# Create a matrix of weights\n",
    "# M = wordcounts[['word_1', 'word_2', 'weight']].pivot(index='word_2', columns='word_1', values='weight')\n",
    "# M = M.fillna(0)"
   ]
  },
  {
   "cell_type": "code",
   "execution_count": null,
   "metadata": {},
   "outputs": [],
   "source": [
    "M.iloc[:, 0].reset_index()[['word_2']].sample(1, weights=M['_START'])"
   ]
  },
  {
   "cell_type": "code",
   "execution_count": null,
   "metadata": {},
   "outputs": [],
   "source": [
    "wordcounts.sort_values('n')"
   ]
  },
  {
   "cell_type": "code",
   "execution_count": null,
   "metadata": {},
   "outputs": [],
   "source": [
    "# Everything below is not for the matrix approach"
   ]
  },
  {
   "cell_type": "code",
   "execution_count": null,
   "metadata": {},
   "outputs": [],
   "source": [
    "wordcounts = wordcounts.sort_values('count', ascending=False)"
   ]
  },
  {
   "cell_type": "code",
   "execution_count": null,
   "metadata": {},
   "outputs": [],
   "source": [
    "# Group by word_1, create a list of (word_2, count) tuples ordered by count\n",
    "wordcounts = wordcounts.assign(next_words=wordcounts[['word_2', 'count']].values.tolist())"
   ]
  },
  {
   "cell_type": "code",
   "execution_count": null,
   "metadata": {},
   "outputs": [],
   "source": [
    "starting_words = wordcounts[['word_1', 'next_words']].groupby('word_1').agg(lambda x: list(x))"
   ]
  },
  {
   "cell_type": "code",
   "execution_count": null,
   "metadata": {},
   "outputs": [],
   "source": [
    "starting_words"
   ]
  },
  {
   "cell_type": "code",
   "execution_count": null,
   "metadata": {},
   "outputs": [],
   "source": []
  }
 ],
 "metadata": {
  "kernelspec": {
   "display_name": "Python 3",
   "language": "python",
   "name": "python3"
  },
  "language_info": {
   "codemirror_mode": {
    "name": "ipython",
    "version": 3
   },
   "file_extension": ".py",
   "mimetype": "text/x-python",
   "name": "python",
   "nbconvert_exporter": "python",
   "pygments_lexer": "ipython3",
   "version": "3.6.5"
  }
 },
 "nbformat": 4,
 "nbformat_minor": 2
}
