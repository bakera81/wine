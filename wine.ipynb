{
 "cells": [
  {
   "cell_type": "code",
   "execution_count": 1,
   "metadata": {},
   "outputs": [],
   "source": [
    "import pandas as pd"
   ]
  },
  {
   "cell_type": "code",
   "execution_count": 2,
   "metadata": {},
   "outputs": [],
   "source": [
    "reviews = pd.read_csv('data/winemag-data-130k-v2.csv')"
   ]
  },
  {
   "cell_type": "code",
   "execution_count": null,
   "metadata": {},
   "outputs": [],
   "source": [
    "reviews.head()"
   ]
  },
  {
   "cell_type": "code",
   "execution_count": 29,
   "metadata": {},
   "outputs": [],
   "source": [
    "wines = reviews[['title','description']]\n",
    "titles = reviews[['title']]"
   ]
  },
  {
   "cell_type": "code",
   "execution_count": null,
   "metadata": {},
   "outputs": [],
   "source": [
    "# wines = wines.assign(description=wines.description.str.replace('“', ''))\n",
    "# wines[wines.description.str.contains('“')]"
   ]
  },
  {
   "cell_type": "code",
   "execution_count": null,
   "metadata": {},
   "outputs": [],
   "source": [
    "# What funky characters need to be replaced?\n",
    "# test = wines[['description']].assign(matched=wines.description.str.extract('([^ ,;:/%&\\+\\$\\(\\)\\.\\?\\-–—!…\\w\\d\\'])'))\n",
    "# test = test[test.matched.notna()]\n",
    "# test['matched'].value_counts()"
   ]
  },
  {
   "cell_type": "code",
   "execution_count": null,
   "metadata": {},
   "outputs": [],
   "source": [
    "# test[test.matched=='+']['description'][2587]\n"
   ]
  },
  {
   "cell_type": "code",
   "execution_count": 30,
   "metadata": {},
   "outputs": [],
   "source": [
    "# Clean descriptions - replace curly punctuation + dashes\n",
    "wines = wines.assign(clean_desc=wines.description.str.replace('“|”', '\"'))\n",
    "wines = wines.assign(clean_desc=wines.clean_desc.str.replace('’|‘|`|´', '\\''))\n",
    "wines = wines.assign(clean_desc=wines.clean_desc.str.replace('[\\-–—]', '- '))"
   ]
  },
  {
   "cell_type": "code",
   "execution_count": 31,
   "metadata": {},
   "outputs": [],
   "source": [
    "# Clean descriptions - remove certain punctuation\n",
    "wines = wines.assign(clean_desc=wines.clean_desc.str.replace('[^ ,;:/%&\\+\\$\\(\\)\\.\\?\\-–—!…\\w\\d\\']', ''))"
   ]
  },
  {
   "cell_type": "code",
   "execution_count": 32,
   "metadata": {},
   "outputs": [],
   "source": [
    "# Clean descriptions - remove multiple white spaces\n",
    "wines = wines.assign(clean_desc=wines.clean_desc.str.replace('\\s', ' '))"
   ]
  },
  {
   "cell_type": "code",
   "execution_count": 33,
   "metadata": {},
   "outputs": [],
   "source": [
    "# Clean descriptions - remove multiple punctuation\n",
    "wines = wines.assign(clean_desc=wines.clean_desc.str.replace('\\.{3}', '…'))"
   ]
  },
  {
   "cell_type": "code",
   "execution_count": 34,
   "metadata": {},
   "outputs": [],
   "source": [
    "# Clean descriptions - remove white spaces around commas and other punctuation\n",
    "# wines[wines.clean_desc.str.contains('[,;:/%&\\+\\$\\(\\)\\.\\?\\-–—!…]')]"
   ]
  },
  {
   "cell_type": "code",
   "execution_count": 35,
   "metadata": {},
   "outputs": [],
   "source": [
    "wines = wines.assign(words=wines.clean_desc.str.split(pat=' '))"
   ]
  },
  {
   "cell_type": "code",
   "execution_count": 36,
   "metadata": {},
   "outputs": [],
   "source": [
    "def split_pairs(x):\n",
    "    \"\"\"Split a list into a list of 2-tuples.\"\"\"\n",
    "    output = []\n",
    "    for i in range(0, len(x)):\n",
    "        if i == 0:\n",
    "            output.append(tuple(['_START', x[i]]))\n",
    "        output.append(tuple(x[i:i+2]))\n",
    "    return output"
   ]
  },
  {
   "cell_type": "code",
   "execution_count": 37,
   "metadata": {},
   "outputs": [],
   "source": [
    "# sample = wines.iloc[0,3]\n",
    "# [x for x in split_pairs(sample)]"
   ]
  },
  {
   "cell_type": "code",
   "execution_count": 38,
   "metadata": {},
   "outputs": [],
   "source": [
    "wines = wines.assign(pairs=wines.apply(lambda row: split_pairs(row.words), axis=1))"
   ]
  },
  {
   "cell_type": "code",
   "execution_count": 39,
   "metadata": {},
   "outputs": [],
   "source": [
    "words = wines['pairs'].apply(pd.Series).stack().to_frame(name='pairs')"
   ]
  },
  {
   "cell_type": "code",
   "execution_count": 40,
   "metadata": {},
   "outputs": [],
   "source": [
    "punctuation = ['.', '?', '!']\n",
    "words = words.assign(\n",
    "    word_1=words['pairs'].apply(lambda x: '_START' if any([x[0].endswith(p) for p in punctuation]) else x[0]),\n",
    "    word_2=words['pairs'].apply(lambda x: x[1] if len(x) > 1 else '_END')\n",
    ")"
   ]
  },
  {
   "cell_type": "code",
   "execution_count": 41,
   "metadata": {},
   "outputs": [
    {
     "data": {
      "text/html": [
       "<div>\n",
       "<style scoped>\n",
       "    .dataframe tbody tr th:only-of-type {\n",
       "        vertical-align: middle;\n",
       "    }\n",
       "\n",
       "    .dataframe tbody tr th {\n",
       "        vertical-align: top;\n",
       "    }\n",
       "\n",
       "    .dataframe thead th {\n",
       "        text-align: right;\n",
       "    }\n",
       "</style>\n",
       "<table border=\"1\" class=\"dataframe\">\n",
       "  <thead>\n",
       "    <tr style=\"text-align: right;\">\n",
       "      <th></th>\n",
       "      <th></th>\n",
       "      <th>pairs</th>\n",
       "      <th>word_1</th>\n",
       "      <th>word_2</th>\n",
       "    </tr>\n",
       "  </thead>\n",
       "  <tbody>\n",
       "    <tr>\n",
       "      <th rowspan=\"5\" valign=\"top\">0</th>\n",
       "      <th>0</th>\n",
       "      <td>(_START, Aromas)</td>\n",
       "      <td>_START</td>\n",
       "      <td>Aromas</td>\n",
       "    </tr>\n",
       "    <tr>\n",
       "      <th>1</th>\n",
       "      <td>(Aromas, include)</td>\n",
       "      <td>Aromas</td>\n",
       "      <td>include</td>\n",
       "    </tr>\n",
       "    <tr>\n",
       "      <th>2</th>\n",
       "      <td>(include, tropical)</td>\n",
       "      <td>include</td>\n",
       "      <td>tropical</td>\n",
       "    </tr>\n",
       "    <tr>\n",
       "      <th>3</th>\n",
       "      <td>(tropical, fruit,)</td>\n",
       "      <td>tropical</td>\n",
       "      <td>fruit,</td>\n",
       "    </tr>\n",
       "    <tr>\n",
       "      <th>4</th>\n",
       "      <td>(fruit,, broom,)</td>\n",
       "      <td>fruit,</td>\n",
       "      <td>broom,</td>\n",
       "    </tr>\n",
       "  </tbody>\n",
       "</table>\n",
       "</div>"
      ],
      "text/plain": [
       "                   pairs    word_1    word_2\n",
       "0 0     (_START, Aromas)    _START    Aromas\n",
       "  1    (Aromas, include)    Aromas   include\n",
       "  2  (include, tropical)   include  tropical\n",
       "  3   (tropical, fruit,)  tropical    fruit,\n",
       "  4     (fruit,, broom,)    fruit,    broom,"
      ]
     },
     "execution_count": 41,
     "metadata": {},
     "output_type": "execute_result"
    }
   ],
   "source": [
    "words.head()"
   ]
  },
  {
   "cell_type": "code",
   "execution_count": 42,
   "metadata": {},
   "outputs": [],
   "source": [
    "words = words.reset_index()\n",
    "words = words[['pairs', 'word_1', 'word_2']]"
   ]
  },
  {
   "cell_type": "code",
   "execution_count": 45,
   "metadata": {},
   "outputs": [],
   "source": [
    "# words[['word_1']].groupby('word_1').agg({'word_1': 'count'}).sort_values('word_1')\n",
    "# words[['word_2']].groupby('word_2').agg({'word_2': 'count'}).sort_values('word_2')"
   ]
  },
  {
   "cell_type": "code",
   "execution_count": 46,
   "metadata": {},
   "outputs": [],
   "source": [
    "# Remove any empty words, filter out pairs that occur infrequently to make it faster\n",
    "# len(wordcounts.index)\n",
    "words = words[(words.word_1 != '') & (words.word_2 != '') & (words.word_2 != '_END')]\n",
    "# wordcounts = wordcounts[wordcounts.n > 5]"
   ]
  },
  {
   "cell_type": "code",
   "execution_count": null,
   "metadata": {},
   "outputs": [],
   "source": [
    "wsample = words.sample(200)"
   ]
  },
  {
   "cell_type": "code",
   "execution_count": 47,
   "metadata": {},
   "outputs": [],
   "source": [
    "w1 = words.groupby('word_1').agg('size').reset_index(name='w1_freq')\n",
    "w2 = words.groupby(['word_1', 'word_2']).agg('size').reset_index(name='n')\n",
    "wordcounts = w2.merge(w1, on='word_1', how='inner')"
   ]
  },
  {
   "cell_type": "code",
   "execution_count": 48,
   "metadata": {},
   "outputs": [],
   "source": [
    "wordcounts = wordcounts.assign(weight=wordcounts.n/wordcounts.w1_freq)"
   ]
  },
  {
   "cell_type": "code",
   "execution_count": 50,
   "metadata": {},
   "outputs": [
    {
     "data": {
      "text/plain": [
       "'It'"
      ]
     },
     "execution_count": 50,
     "metadata": {},
     "output_type": "execute_result"
    }
   ],
   "source": [
    "wordcounts[wordcounts.word_1 == '_START'].sample(1, weights=wordcounts.weight).iloc[0,1]"
   ]
  },
  {
   "cell_type": "code",
   "execution_count": 63,
   "metadata": {},
   "outputs": [],
   "source": [
    "def write_review():\n",
    "    punctuation = ['.', '!', '?']\n",
    "    prev_word = '_START'\n",
    "    review = []\n",
    "    keep_speaking = True\n",
    "    while(keep_speaking):\n",
    "        prev_word = wordcounts[wordcounts.word_1 == prev_word] \\\n",
    "            .sample(1, weights=wordcounts.weight) \\\n",
    "            .iloc[0, 1]\n",
    "        review.append(prev_word)\n",
    "\n",
    "        # if it's the end of a sentence, start over\n",
    "        if any([prev_word.endswith(x) for x in punctuation]):\n",
    "            prev_word = '_START'\n",
    "\n",
    "        # if we've generated enough text, take a break\n",
    "        # pattern = '|'.join(punctuation).replace('.', '\\.').replace('?', '\\?')\n",
    "        # num_sentences = len(re.findall(pattern, review))\n",
    "        num_sentences = sum([w.endswith(p) for w in review for p in punctuation])\n",
    "        if len(review) >= 40 and num_sentences >= 2 and prev_word == '_START':\n",
    "            keep_speaking = False\n",
    "\n",
    "    return ' '.join(review)\n",
    "\n",
    "# prev_word = '_START'\n",
    "# review = []\n",
    "# for i in range(20):\n",
    "#     prev_word = wordcounts[wordcounts.word_1 == prev_word].sample(1, weights=wordcounts.weight).iloc[0, 1]\n",
    "#     print(prev_word)\n",
    "#     if any([prev_word.endswith(x) for x in punctuation]):\n",
    "#         prev_word = '_START'"
   ]
  },
  {
   "cell_type": "code",
   "execution_count": 67,
   "metadata": {},
   "outputs": [
    {
     "data": {
      "text/plain": [
       "'Drink from some intensity develops an intensely mineral notes to medium acidity show through, balancing acidity. Fine, dusty and the next 10 years to produce a wine is lower slopes of espresso beans and beautiful. This is a backbone and caramelized sugar.'"
      ]
     },
     "execution_count": 67,
     "metadata": {},
     "output_type": "execute_result"
    }
   ],
   "source": [
    "write_review()"
   ]
  },
  {
   "cell_type": "code",
   "execution_count": null,
   "metadata": {},
   "outputs": [],
   "source": [
    "# Titles"
   ]
  },
  {
   "cell_type": "code",
   "execution_count": null,
   "metadata": {},
   "outputs": [],
   "source": [
    "# Clean titles - remove everything in parentheses\n",
    "titles = titles.assign(clean_title=titles.title.str.replace('\\(.*\\)', ''))\n",
    "titles = titles.assign(clean_title=titles.clean_title.str.strip())"
   ]
  },
  {
   "cell_type": "code",
   "execution_count": null,
   "metadata": {},
   "outputs": [],
   "source": [
    "titles = titles.assign(words=titles.clean_title.str.split(pat=' '))"
   ]
  },
  {
   "cell_type": "code",
   "execution_count": null,
   "metadata": {},
   "outputs": [],
   "source": [
    "titles = titles.assign(pairs=titles.apply(lambda row: split_pairs(row.words), axis=1))"
   ]
  },
  {
   "cell_type": "code",
   "execution_count": null,
   "metadata": {},
   "outputs": [],
   "source": [
    "title_words = titles['pairs'].apply(pd.Series).stack().to_frame(name='pairs')"
   ]
  },
  {
   "cell_type": "code",
   "execution_count": null,
   "metadata": {},
   "outputs": [],
   "source": [
    "title_words = title_words.reset_index()\n",
    "punctuation = ['.', '?', '!']\n",
    "title_words = title_words.assign(\n",
    "    word_1=title_words['pairs'].apply(lambda x: '_START' if any([x[0].endswith(p) for p in punctuation]) else x[0]),\n",
    "    word_2=title_words['pairs'].apply(lambda x: x[1] if len(x) > 1 else '_END')\n",
    ")\n",
    "title_words = title_words[['word_1', 'word_2', 'pairs']]"
   ]
  },
  {
   "cell_type": "code",
   "execution_count": null,
   "metadata": {},
   "outputs": [],
   "source": [
    "title_words = title_words[(title_words.word_1 != '') & (title_words.word_2 != '') & (title_words.word_2 != '_END')]"
   ]
  },
  {
   "cell_type": "code",
   "execution_count": null,
   "metadata": {},
   "outputs": [],
   "source": [
    "title_words.head()"
   ]
  },
  {
   "cell_type": "code",
   "execution_count": null,
   "metadata": {},
   "outputs": [],
   "source": [
    "w1 = title_words.groupby('word_1').agg('size').reset_index(name='w1_freq')\n",
    "w2 = title_words.groupby(['word_1', 'word_2']).agg('size').reset_index(name='n')\n",
    "title_wordcounts = w2.merge(w1, on='word_1', how='inner')"
   ]
  },
  {
   "cell_type": "code",
   "execution_count": null,
   "metadata": {},
   "outputs": [],
   "source": [
    "title_wordcounts.head()"
   ]
  },
  {
   "cell_type": "code",
   "execution_count": null,
   "metadata": {},
   "outputs": [],
   "source": [
    "title_wordcounts = title_wordcounts.assign(weight=title_wordcounts.n/title_wordcounts.w1_freq)"
   ]
  },
  {
   "cell_type": "code",
   "execution_count": null,
   "metadata": {},
   "outputs": [],
   "source": [
    "prev_word = '_START'\n",
    "title = []\n",
    "for i in range(6):\n",
    "    prev_word = title_wordcounts[title_wordcounts.word_1 == prev_word].sample(1, weights=title_wordcounts.weight).iloc[0, 1]\n",
    "    print(prev_word)"
   ]
  },
  {
   "cell_type": "code",
   "execution_count": null,
   "metadata": {},
   "outputs": [],
   "source": [
    "len(title_wordcounts.index)"
   ]
  },
  {
   "cell_type": "code",
   "execution_count": null,
   "metadata": {},
   "outputs": [],
   "source": [
    "####### OLD #######"
   ]
  },
  {
   "cell_type": "code",
   "execution_count": null,
   "metadata": {},
   "outputs": [],
   "source": [
    "# Create a matrix of weights\n",
    "# M = wordcounts[['word_1', 'word_2', 'weight']].pivot(index='word_2', columns='word_1', values='weight')\n",
    "# M = M.fillna(0)"
   ]
  },
  {
   "cell_type": "code",
   "execution_count": null,
   "metadata": {},
   "outputs": [],
   "source": [
    "M.iloc[:, 0].reset_index()[['word_2']].sample(1, weights=M['_START'])"
   ]
  },
  {
   "cell_type": "code",
   "execution_count": null,
   "metadata": {},
   "outputs": [],
   "source": [
    "wordcounts.sort_values('n')"
   ]
  },
  {
   "cell_type": "code",
   "execution_count": null,
   "metadata": {},
   "outputs": [],
   "source": [
    "# Everything below is not for the matrix approach"
   ]
  },
  {
   "cell_type": "code",
   "execution_count": null,
   "metadata": {},
   "outputs": [],
   "source": [
    "wordcounts = wordcounts.sort_values('count', ascending=False)"
   ]
  },
  {
   "cell_type": "code",
   "execution_count": null,
   "metadata": {},
   "outputs": [],
   "source": [
    "# Group by word_1, create a list of (word_2, count) tuples ordered by count\n",
    "wordcounts = wordcounts.assign(next_words=wordcounts[['word_2', 'count']].values.tolist())"
   ]
  },
  {
   "cell_type": "code",
   "execution_count": null,
   "metadata": {},
   "outputs": [],
   "source": [
    "starting_words = wordcounts[['word_1', 'next_words']].groupby('word_1').agg(lambda x: list(x))"
   ]
  },
  {
   "cell_type": "code",
   "execution_count": null,
   "metadata": {},
   "outputs": [],
   "source": [
    "starting_words"
   ]
  },
  {
   "cell_type": "code",
   "execution_count": null,
   "metadata": {},
   "outputs": [],
   "source": []
  }
 ],
 "metadata": {
  "kernelspec": {
   "display_name": "Python 3",
   "language": "python",
   "name": "python3"
  },
  "language_info": {
   "codemirror_mode": {
    "name": "ipython",
    "version": 3
   },
   "file_extension": ".py",
   "mimetype": "text/x-python",
   "name": "python",
   "nbconvert_exporter": "python",
   "pygments_lexer": "ipython3",
   "version": "3.6.5"
  }
 },
 "nbformat": 4,
 "nbformat_minor": 2
}
